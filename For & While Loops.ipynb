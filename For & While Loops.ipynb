{
 "cells": [
  {
   "cell_type": "markdown",
   "metadata": {},
   "source": [
    "# For & While Loops"
   ]
  },
  {
   "cell_type": "markdown",
   "metadata": {},
   "source": [
    "A For loop is used to iterate through an iterable object and when the number of iterations is known. \n",
    "\n",
    "A While loop is used to iterate when the number of iterations is unknown. A condition is passed to the While statement and the loop continues till the condition is False.  "
   ]
  },
  {
   "cell_type": "markdown",
   "metadata": {},
   "source": [
    "Both the below examples return the same result. \n",
    "\n",
    "1. In the first case, a range is given and we're asking Python to loop through the range and print out each element. \n",
    "2. In the second case, we are initiating a counter and passing a condition to run the loop till the given condition is False. \n",
    "\n",
    "It depends on the data structure in question, as to which loop should be used. Usually, if the data set used is tidy, a for loop is used considering the range will be known from the data. Else, While loop will be used. \n",
    "\n",
    "On the hindsight, a For loop produces much more readable code and handles the counter etc, internally."
   ]
  },
  {
   "cell_type": "code",
   "execution_count": 2,
   "metadata": {},
   "outputs": [
    {
     "name": "stdout",
     "output_type": "stream",
     "text": [
      "0\n",
      "1\n",
      "2\n",
      "3\n",
      "4\n",
      "5\n",
      "6\n",
      "7\n",
      "8\n",
      "9\n",
      "10\n"
     ]
    }
   ],
   "source": [
    "for i in range(0, 11):\n",
    "    print (i)"
   ]
  },
  {
   "cell_type": "code",
   "execution_count": 3,
   "metadata": {},
   "outputs": [
    {
     "name": "stdout",
     "output_type": "stream",
     "text": [
      "0\n",
      "1\n",
      "2\n",
      "3\n",
      "4\n",
      "5\n",
      "6\n",
      "7\n",
      "8\n",
      "9\n",
      "10\n"
     ]
    }
   ],
   "source": [
    "count = 0\n",
    "\n",
    "while count <= 10:\n",
    "    print(count)\n",
    "    count+=1"
   ]
  },
  {
   "cell_type": "markdown",
   "metadata": {},
   "source": [
    "While loop with Else statement"
   ]
  },
  {
   "cell_type": "code",
   "execution_count": 8,
   "metadata": {},
   "outputs": [
    {
     "name": "stdout",
     "output_type": "stream",
     "text": [
      "1\n",
      "2\n",
      "3\n"
     ]
    }
   ],
   "source": [
    "a = 1\n",
    "\n",
    "while a<5:\n",
    "    print(a)\n",
    "    a+=1\n",
    "    if a == 4: break\n",
    "else:\n",
    "    print(\"Done!\")"
   ]
  },
  {
   "cell_type": "markdown",
   "metadata": {},
   "source": [
    "A single statement While loop"
   ]
  },
  {
   "cell_type": "code",
   "execution_count": 10,
   "metadata": {},
   "outputs": [
    {
     "name": "stdout",
     "output_type": "stream",
     "text": [
      "1\n",
      "2\n",
      "3\n",
      "4\n"
     ]
    }
   ],
   "source": [
    "a = 1\n",
    "\n",
    "while a<5: print(a); a+=1;"
   ]
  },
  {
   "cell_type": "markdown",
   "metadata": {},
   "source": [
    "For Loops can be used for:\n",
    "\n",
    "1. The range() function\n",
    "2. Iterating through contents of the list/tuple/dictionary/string etc.\n",
    "3. Iterating through the indices of the contents of the iterable \n",
    "\n",
    "Similar to the While loop, an Else statement can be used in For loop (Tip: Else statement can be used without \"IF\" statement)"
   ]
  },
  {
   "cell_type": "code",
   "execution_count": 11,
   "metadata": {},
   "outputs": [
    {
     "name": "stdout",
     "output_type": "stream",
     "text": [
      "* \n",
      "* * \n",
      "* * * \n",
      "* * * * \n",
      "* * * * * \n"
     ]
    }
   ],
   "source": [
    "#Nested For Loop\n",
    "\n",
    "for i in range(1,6):\n",
    "    for j in range(i):\n",
    "        print(\"*\", end = \" \") #The end = \" \" is used to give a space between each *\n",
    "    print()                   # The empty print statement here is used for printing a new line "
   ]
  },
  {
   "cell_type": "code",
   "execution_count": 14,
   "metadata": {},
   "outputs": [
    {
     "name": "stdout",
     "output_type": "stream",
     "text": [
      "\n",
      "* \n",
      "* * \n",
      "* * * \n",
      "* * * * \n",
      "* * * * * \n"
     ]
    }
   ],
   "source": [
    "#Nested While Loop\n",
    "\n",
    "i = 6\n",
    "while i > 0:\n",
    "    j = 6\n",
    "    while j > i:\n",
    "        print(\"*\", end = \" \")\n",
    "        j-=1\n",
    "    i-=1\n",
    "    print()"
   ]
  },
  {
   "cell_type": "markdown",
   "metadata": {},
   "source": [
    "Sometimes you want to break out of the normal execution loop. In such cases, we use Break, Continue and Pass keywords for both While and For loop.\n",
    "\n",
    "1. Break: When the break condition is met, the execution of the loop in which break statement is present is stopped and the control moves to the next line or the outer loop in case of nested loops. \n",
    "\n",
    "2. Continue: When the continue condition is met, the statement after continue will be skipped.\n",
    "\n",
    "3. Pass: This is used when a dummy function or class needs to be created. It is a null statement and the Python interpreter performs no action when it comes across Pass. "
   ]
  },
  {
   "cell_type": "code",
   "execution_count": 16,
   "metadata": {},
   "outputs": [
    {
     "name": "stdout",
     "output_type": "stream",
     "text": [
      "b\n",
      "r\n",
      "e\n",
      "a\n"
     ]
    }
   ],
   "source": [
    "for i in \"break\":\n",
    "    print(i)\n",
    "    if i == \"a\": break"
   ]
  },
  {
   "cell_type": "code",
   "execution_count": 18,
   "metadata": {},
   "outputs": [
    {
     "name": "stdout",
     "output_type": "stream",
     "text": [
      "b\n",
      "r\n",
      "e\n",
      "k\n"
     ]
    }
   ],
   "source": [
    "for i in \"break\":\n",
    "    if i == \"a\": continue\n",
    "    print(i)"
   ]
  },
  {
   "cell_type": "code",
   "execution_count": 19,
   "metadata": {},
   "outputs": [
    {
     "name": "stdout",
     "output_type": "stream",
     "text": [
      "k\n"
     ]
    }
   ],
   "source": [
    "for i in \"break\":\n",
    "    pass\n",
    "print(i)"
   ]
  },
  {
   "cell_type": "code",
   "execution_count": 30,
   "metadata": {},
   "outputs": [
    {
     "name": "stdout",
     "output_type": "stream",
     "text": [
      "Enter a number: 5\n",
      "16\n",
      "2\n",
      "10\n",
      "1\n"
     ]
    }
   ],
   "source": [
    "number = int(input(\"Enter a number: \"))\n",
    "\n",
    "while number !=1:\n",
    "    if number%2 == 0:\n",
    "        print(number//2)\n",
    "    elif number%2 == 1:\n",
    "        print(3* number+1)\n",
    "    number-=1"
   ]
  },
  {
   "cell_type": "code",
   "execution_count": 31,
   "metadata": {},
   "outputs": [
    {
     "name": "stdout",
     "output_type": "stream",
     "text": [
      "* \n",
      "* * \n",
      "* * * \n",
      "* * * * \n",
      "* * * * * \n",
      "* * * * \n",
      "* * * \n",
      "* * \n",
      "* \n",
      "None\n"
     ]
    }
   ],
   "source": [
    "#Nested For Loops\n",
    "\n",
    "def stars(n):\n",
    "    \n",
    "    for i in range(1, n):\n",
    "        for j in range(i):\n",
    "            print(\"*\", end = \" \")\n",
    "        print()\n",
    "    \n",
    "    for i in range(n, 0, -1):\n",
    "        for j in range(i):\n",
    "            print(\"*\", end = \" \")\n",
    "        print()\n",
    "        \n",
    "print(stars(5))"
   ]
  },
  {
   "cell_type": "code",
   "execution_count": 3,
   "metadata": {},
   "outputs": [
    {
     "name": "stdout",
     "output_type": "stream",
     "text": [
      "15\n",
      "55\n",
      "75\n",
      "150\n"
     ]
    }
   ],
   "source": [
    "list1 = [12, 15, 32, 42, 55, 75, 122, 132, 150, 180, 200]\n",
    "\n",
    "for i in range(len(list1)):\n",
    "    if list1[i] % 5 == 0 and list1[i] <= 150:\n",
    "        print(list1[i])\n",
    "            "
   ]
  },
  {
   "cell_type": "code",
   "execution_count": 4,
   "metadata": {},
   "outputs": [
    {
     "name": "stdout",
     "output_type": "stream",
     "text": [
      "25\n",
      "26\n",
      "27\n",
      "28\n",
      "29\n",
      "30\n",
      "31\n",
      "32\n",
      "33\n",
      "34\n",
      "35\n",
      "36\n",
      "37\n",
      "38\n",
      "39\n",
      "40\n",
      "41\n",
      "42\n",
      "43\n",
      "44\n",
      "45\n",
      "46\n",
      "47\n",
      "48\n",
      "49\n",
      "None\n"
     ]
    }
   ],
   "source": [
    "def prime(start, end):\n",
    "    \n",
    "    for i in range(start, end):\n",
    "        if i // 2 != 0:\n",
    "            print(i)\n",
    "\n",
    "print(prime(25, 50))"
   ]
  }
 ],
 "metadata": {
  "kernelspec": {
   "display_name": "Python 3",
   "language": "python",
   "name": "python3"
  },
  "language_info": {
   "codemirror_mode": {
    "name": "ipython",
    "version": 3
   },
   "file_extension": ".py",
   "mimetype": "text/x-python",
   "name": "python",
   "nbconvert_exporter": "python",
   "pygments_lexer": "ipython3",
   "version": "3.7.6"
  }
 },
 "nbformat": 4,
 "nbformat_minor": 4
}
