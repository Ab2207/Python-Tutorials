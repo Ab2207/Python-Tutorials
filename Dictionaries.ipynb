{
 "cells": [
  {
   "cell_type": "markdown",
   "metadata": {},
   "source": [
    "# Dictionaries\n",
    "\n",
    "Dictionaries are another type of data structures used in Python. These are a Python implementation of Hash-Map. \n",
    "The values in a dictionary are stored in a key:value format and are denoted with {}. Notice that even set uses {}, however, set only accepts values while dictionary accepts both Key and value. \n",
    "\n",
    "Points to note about dictionaries:\n",
    "\n",
    "--> An empty dictionary can be created using --> empty_dict = {}\n",
    "\n",
    "--> Type casting can be done to convert list and other data structures into dictionary. \n",
    "\n",
    "--> Dictionaries do not support indexing, hence slicing cannot be performed. "
   ]
  },
  {
   "cell_type": "markdown",
   "metadata": {},
   "source": [
    "# Dictionary Comprehension"
   ]
  },
  {
   "cell_type": "code",
   "execution_count": 1,
   "metadata": {},
   "outputs": [
    {
     "name": "stdout",
     "output_type": "stream",
     "text": [
      "{0: 0, 1: 1, 4: 2, 9: 3, 16: 4, 25: 5, 36: 6, 49: 7}\n"
     ]
    }
   ],
   "source": [
    "#A dictionary is created using dictionary comprehension with squares of numbers from 0 to 7. \n",
    "\n",
    "mydict = {x*x:x for x in range(8)}\n",
    "print(mydict)"
   ]
  },
  {
   "cell_type": "markdown",
   "metadata": {},
   "source": [
    "# Dictionaries with mixed keys and values\n",
    "\n",
    "Dictionaries can accept different types of keys and values. It is not mandatory that all the keys and values should be of the same data type. \n",
    "\n",
    "Note - Data types List and Set cannot be assigned as a key as they return TypeError: Unhashable type.. However, a tuple can be assigned as key in dictionary. "
   ]
  },
  {
   "cell_type": "code",
   "execution_count": 11,
   "metadata": {},
   "outputs": [
    {
     "name": "stdout",
     "output_type": "stream",
     "text": [
      "{'one': 'mango', (1, 2, 3): ['apple', 'pear', 'fig']}\n"
     ]
    }
   ],
   "source": [
    "mydict = {'one': 'mango', (1,2,3):['apple', 'pear', 'fig']}\n",
    "print(mydict)"
   ]
  },
  {
   "cell_type": "markdown",
   "metadata": {},
   "source": [
    "# Type casting with dictionary"
   ]
  },
  {
   "cell_type": "code",
   "execution_count": 15,
   "metadata": {},
   "outputs": [
    {
     "ename": "TypeError",
     "evalue": "dict expected at most 1 arguments, got 3",
     "output_type": "error",
     "traceback": [
      "\u001b[1;31m---------------------------------------------------------------------------\u001b[0m",
      "\u001b[1;31mTypeError\u001b[0m                                 Traceback (most recent call last)",
      "\u001b[1;32m<ipython-input-15-ea2b2449abfb>\u001b[0m in \u001b[0;36m<module>\u001b[1;34m\u001b[0m\n\u001b[1;32m----> 1\u001b[1;33m \u001b[0mdict\u001b[0m\u001b[1;33m(\u001b[0m\u001b[1;33m[\u001b[0m\u001b[1;36m1\u001b[0m\u001b[1;33m,\u001b[0m\u001b[1;36m2\u001b[0m\u001b[1;33m]\u001b[0m\u001b[1;33m,\u001b[0m \u001b[1;33m[\u001b[0m\u001b[1;36m2\u001b[0m\u001b[1;33m,\u001b[0m\u001b[1;36m4\u001b[0m\u001b[1;33m]\u001b[0m\u001b[1;33m,\u001b[0m \u001b[1;33m[\u001b[0m\u001b[1;36m3\u001b[0m\u001b[1;33m,\u001b[0m\u001b[1;36m6\u001b[0m\u001b[1;33m]\u001b[0m\u001b[1;33m)\u001b[0m\u001b[1;33m\u001b[0m\u001b[1;33m\u001b[0m\u001b[0m\n\u001b[0m",
      "\u001b[1;31mTypeError\u001b[0m: dict expected at most 1 arguments, got 3"
     ]
    }
   ],
   "source": [
    "#Converting a list like below will result in TypeError. To avoid this, the list should be given in [list] or (tuple) \n",
    "dict([1,2], [2,4], [3,6])"
   ]
  },
  {
   "cell_type": "code",
   "execution_count": 18,
   "metadata": {},
   "outputs": [
    {
     "data": {
      "text/plain": [
       "{1: 2, 2: 4, 3: 6}"
      ]
     },
     "execution_count": 18,
     "metadata": {},
     "output_type": "execute_result"
    }
   ],
   "source": [
    "#Note that each internal list or tuple should only be of length 2 as it will be converted into key, value pair.\n",
    "\n",
    "dict(([1,2], [2,4], [3,6]))"
   ]
  },
  {
   "cell_type": "markdown",
   "metadata": {},
   "source": [
    "# Declaring duplicate keys\n",
    "\n",
    "Dictionaries do not support assigning duplicate keys.. If assigned, the next key value pair with the same key will replace the preceeding. "
   ]
  },
  {
   "cell_type": "code",
   "execution_count": 19,
   "metadata": {},
   "outputs": [
    {
     "name": "stdout",
     "output_type": "stream",
     "text": [
      "{1: 3, 2: 4}\n"
     ]
    }
   ],
   "source": [
    "#Here, 1:1 was first replaced by 1:2 which was inturn replaced by 1:3\n",
    "\n",
    "duplicate = {1:1, 1:2, 1:3, 2:4}\n",
    "print(duplicate)"
   ]
  },
  {
   "cell_type": "markdown",
   "metadata": {},
   "source": [
    "# Declaring empty dictionary, adding elements and reassigning values"
   ]
  },
  {
   "cell_type": "code",
   "execution_count": 20,
   "metadata": {},
   "outputs": [
    {
     "name": "stdout",
     "output_type": "stream",
     "text": [
      "{1: 'Brown', 2: 'Murakami', 3: 'Wodehouse'}\n"
     ]
    }
   ],
   "source": [
    "#syntax for adding elements to dictionary - dict_name[key] = value\n",
    "\n",
    "authors = {}\n",
    "authors[1] = \"Brown\"\n",
    "authors[2] = \"Murakami\"\n",
    "authors[3] = \"Wodehouse\"\n",
    "print(authors)"
   ]
  },
  {
   "cell_type": "code",
   "execution_count": 28,
   "metadata": {},
   "outputs": [
    {
     "name": "stdout",
     "output_type": "stream",
     "text": [
      "{1: 'Brown', 2: 'Murakami', 3: 'Blyton'}\n"
     ]
    }
   ],
   "source": [
    "authors[3] = 'Blyton'\n",
    "print(authors)"
   ]
  },
  {
   "cell_type": "markdown",
   "metadata": {},
   "source": [
    "# Accessing elements from dictionary"
   ]
  },
  {
   "cell_type": "code",
   "execution_count": 24,
   "metadata": {},
   "outputs": [
    {
     "data": {
      "text/plain": [
       "'Brown'"
      ]
     },
     "execution_count": 24,
     "metadata": {},
     "output_type": "execute_result"
    }
   ],
   "source": [
    "authors[1]"
   ]
  },
  {
   "cell_type": "code",
   "execution_count": 22,
   "metadata": {},
   "outputs": [
    {
     "data": {
      "text/plain": [
       "'Wodehouse'"
      ]
     },
     "execution_count": 22,
     "metadata": {},
     "output_type": "execute_result"
    }
   ],
   "source": [
    "authors.get(3)"
   ]
  },
  {
   "cell_type": "code",
   "execution_count": 26,
   "metadata": {},
   "outputs": [
    {
     "name": "stdout",
     "output_type": "stream",
     "text": [
      "None\n"
     ]
    }
   ],
   "source": [
    "#When an unavailable key is passed into the get function, Python simply returns None as there is no value with that key\n",
    "\n",
    "print(authors.get(4))"
   ]
  },
  {
   "cell_type": "code",
   "execution_count": 27,
   "metadata": {},
   "outputs": [
    {
     "ename": "KeyError",
     "evalue": "4",
     "output_type": "error",
     "traceback": [
      "\u001b[1;31m---------------------------------------------------------------------------\u001b[0m",
      "\u001b[1;31mKeyError\u001b[0m                                  Traceback (most recent call last)",
      "\u001b[1;32m<ipython-input-27-f97ddbcbba9c>\u001b[0m in \u001b[0;36m<module>\u001b[1;34m\u001b[0m\n\u001b[1;32m----> 1\u001b[1;33m \u001b[0mprint\u001b[0m\u001b[1;33m(\u001b[0m\u001b[0mauthors\u001b[0m\u001b[1;33m[\u001b[0m\u001b[1;36m4\u001b[0m\u001b[1;33m]\u001b[0m\u001b[1;33m)\u001b[0m\u001b[1;33m\u001b[0m\u001b[1;33m\u001b[0m\u001b[0m\n\u001b[0m",
      "\u001b[1;31mKeyError\u001b[0m: 4"
     ]
    }
   ],
   "source": [
    "#But when the same is passed into [] it raises a KeyError\n",
    "\n",
    "print(authors[4])"
   ]
  },
  {
   "cell_type": "markdown",
   "metadata": {},
   "source": [
    "# Deleting a dictionary and key-value pair"
   ]
  },
  {
   "cell_type": "code",
   "execution_count": 32,
   "metadata": {},
   "outputs": [],
   "source": [
    "dummy = {'key':'value', 'key1':'value1', 'key2':'value2', 'key3':'value3'}"
   ]
  },
  {
   "cell_type": "code",
   "execution_count": 33,
   "metadata": {},
   "outputs": [
    {
     "name": "stdout",
     "output_type": "stream",
     "text": [
      "{'key1': 'value1', 'key2': 'value2', 'key3': 'value3'}\n"
     ]
    }
   ],
   "source": [
    "#Deleting a particular pair from the dictionary\n",
    "\n",
    "del dummy['key'] \n",
    "print(dummy)"
   ]
  },
  {
   "cell_type": "code",
   "execution_count": 35,
   "metadata": {},
   "outputs": [
    {
     "ename": "NameError",
     "evalue": "name 'dummy' is not defined",
     "output_type": "error",
     "traceback": [
      "\u001b[1;31m---------------------------------------------------------------------------\u001b[0m",
      "\u001b[1;31mNameError\u001b[0m                                 Traceback (most recent call last)",
      "\u001b[1;32m<ipython-input-35-db496e329ddc>\u001b[0m in \u001b[0;36m<module>\u001b[1;34m\u001b[0m\n\u001b[0;32m      1\u001b[0m \u001b[1;31m#Deleting the entire dictionary\u001b[0m\u001b[1;33m\u001b[0m\u001b[1;33m\u001b[0m\u001b[1;33m\u001b[0m\u001b[0m\n\u001b[0;32m      2\u001b[0m \u001b[1;33m\u001b[0m\u001b[0m\n\u001b[1;32m----> 3\u001b[1;33m \u001b[1;32mdel\u001b[0m \u001b[0mdummy\u001b[0m\u001b[1;33m\u001b[0m\u001b[1;33m\u001b[0m\u001b[0m\n\u001b[0m\u001b[0;32m      4\u001b[0m \u001b[0mprint\u001b[0m\u001b[1;33m(\u001b[0m\u001b[0mdummy\u001b[0m\u001b[1;33m)\u001b[0m\u001b[1;33m\u001b[0m\u001b[1;33m\u001b[0m\u001b[0m\n",
      "\u001b[1;31mNameError\u001b[0m: name 'dummy' is not defined"
     ]
    }
   ],
   "source": [
    "#Deleting the entire dictionary\n",
    "\n",
    "del dummy\n",
    "print(dummy)"
   ]
  },
  {
   "cell_type": "markdown",
   "metadata": {},
   "source": [
    "# Python built-in functions which can be used on dictionary\n",
    "\n",
    "--> len(dict) - Returns the length of the dictionary. Every key-value pair is of length 1. \n",
    "\n",
    "--> any(dict) - Returns True if at least one \"Key\" in the dictionary has a Boolean value of True. \n",
    "\n",
    "--> all(dict) - Returns True only if all the \"Keys\" in dictionary has Boolean value of True.\n",
    "\n",
    "--> sorted(dict) - Sorts the dictionary in ascending order wrt keys. It doesn't modify the original dictionary. Also, it returns the sorted keys in a list. \n"
   ]
  },
  {
   "cell_type": "code",
   "execution_count": 39,
   "metadata": {},
   "outputs": [
    {
     "name": "stdout",
     "output_type": "stream",
     "text": [
      "[1, 2, 3]\n",
      "{3: 'three', 1: 'one', 2: 'two'}\n"
     ]
    }
   ],
   "source": [
    "dummy = {3:'three', 1:'one', 2:'two'}\n",
    "print(sorted(dummy))\n",
    "print(dummy)"
   ]
  },
  {
   "cell_type": "markdown",
   "metadata": {},
   "source": [
    "# Dictionary built-in methods\n",
    "\n",
    "--> dict.keys() - Returns the keys in that dictionary in the form of a list. []\n",
    "\n",
    "--> dict.values() - Returns the values present in the dictionary in the form of a list. []\n",
    "\n",
    "--> dict.items() - Returns all the key-value pairs in the dictionary in the form of a list. []\n",
    "\n",
    "--> dict.get() - Just like the get() function, it fetches the value of specified key. However, this get method takes 1-2 arguments, the first is the key to find and the second argument denotes what to return if the key is not found. \n",
    "    \n",
    "    Syntax - dict.get(3,0) --> checks if there is key 3.. If not found, returns 0\n",
    "    \n",
    "--> dict.clear() - Clears the complete dictionary.\n",
    "\n",
    "--> dict.copy() - Creates a shallow copy of the dictionary. Shallow copy copies the content of the dictionary but points to the same memory location as the original dictionary. \n",
    "\n",
    "--> dict.pop() - Deletes and displays the key-value of the key passed as argument. It accepts 2nd argument, which denotes the value to display if the key is not found. If this argument is not passed and the key is not found, python raises an error. \n",
    "\n",
    "       Syntax - dict.pop(5,0) --> If 5 is present, it deletes the key value of 5 and prints it. If not found, returns 0\n",
    "       \n",
    "--> dict.popitem() - Deletes and displays the last element of the dictionary. \n",
    "\n",
    "--> dict.fromkeys() - Takes 2 arguments, sequence and values. Creates a new dictionary with the help of given sequence and values. Example shown below\n",
    "\n",
    "--> dict.update() - Updated the existing dictionary with values of another dictionary. Example shown below\n",
    "\n",
    "--> dict.setdefault(key, default_value) - Checks if the given key is present in the dictionary. If present, returns the value of the key. \n",
    "\n",
    "If not present, creates a new key with the name and assigns the default_value specified. If default_value is not specified, assigns None as the value to the key. Example shown below."
   ]
  },
  {
   "cell_type": "code",
   "execution_count": 43,
   "metadata": {},
   "outputs": [
    {
     "data": {
      "text/plain": [
       "('five', 5)"
      ]
     },
     "execution_count": 43,
     "metadata": {},
     "output_type": "execute_result"
    }
   ],
   "source": [
    "new_dict = {1:'one', 2:'two', 'three':3, 'four':4, 'five':5}\n",
    "new_dict.popitem()"
   ]
  },
  {
   "cell_type": "code",
   "execution_count": 44,
   "metadata": {},
   "outputs": [
    {
     "data": {
      "text/plain": [
       "{1: 'one', 2: 'two', 'three': 3, 'four': 4}"
      ]
     },
     "execution_count": 44,
     "metadata": {},
     "output_type": "execute_result"
    }
   ],
   "source": [
    "new_dict"
   ]
  },
  {
   "cell_type": "code",
   "execution_count": 46,
   "metadata": {},
   "outputs": [
    {
     "name": "stdout",
     "output_type": "stream",
     "text": [
      "{'i': 'vowel', 'e': 'vowel', 'o': 'vowel', 'u': 'vowel', 'a': 'vowel'}\n"
     ]
    }
   ],
   "source": [
    "keys = {'a', 'e', 'i', 'o', 'u'}\n",
    "value = 'vowel'\n",
    "\n",
    "vowels = dict.fromkeys(keys, value)\n",
    "print(vowels)"
   ]
  },
  {
   "cell_type": "code",
   "execution_count": 51,
   "metadata": {},
   "outputs": [
    {
     "name": "stdout",
     "output_type": "stream",
     "text": [
      "{'c': [1], 'a': [1], 'b': [1]}\n",
      "{'c': [1, 5], 'a': [1, 5], 'b': [1, 5]}\n"
     ]
    }
   ],
   "source": [
    "keys = {'a', 'b', 'c'}\n",
    "value = [1]\n",
    "\n",
    "vowels = dict.fromkeys(keys, value)\n",
    "print(vowels)\n",
    "\n",
    "value.append(5)\n",
    "vowels = dict.fromkeys(keys, value)\n",
    "print(vowels)"
   ]
  },
  {
   "cell_type": "code",
   "execution_count": 57,
   "metadata": {},
   "outputs": [
    {
     "name": "stdout",
     "output_type": "stream",
     "text": [
      "{1: 'one', 2: 'nine', 3: 'three', 4: 'four'}\n"
     ]
    }
   ],
   "source": [
    "#Updating a dictionary wrt to other dictionary\n",
    "\n",
    "numbers = {1:'one', 2:'two', 3:'three', 4:'four'}\n",
    "up = {2: 'nine'}\n",
    "\n",
    "numbers.update(up)\n",
    "print(numbers)"
   ]
  },
  {
   "cell_type": "code",
   "execution_count": 67,
   "metadata": {},
   "outputs": [
    {
     "name": "stdout",
     "output_type": "stream",
     "text": [
      "{'x': 'one', 'y': 'two', 'z': 'three', 'a': 'four', 'b': 'five'}\n"
     ]
    }
   ],
   "source": [
    "#Updating a dictionary wrt to a tuple\n",
    "\n",
    "numbers = {'x':'one', 'y':'two', 'z':'three', 'a':'four'}\n",
    "numbers.update(b='five')\n",
    "print(numbers)"
   ]
  },
  {
   "cell_type": "code",
   "execution_count": 81,
   "metadata": {},
   "outputs": [
    {
     "data": {
      "text/plain": [
       "'27'"
      ]
     },
     "execution_count": 81,
     "metadata": {},
     "output_type": "execute_result"
    }
   ],
   "source": [
    "profile = {'name': \"Abhi\", 'age': \"27\"}\n",
    "profile.setdefault('age')"
   ]
  },
  {
   "cell_type": "code",
   "execution_count": 79,
   "metadata": {},
   "outputs": [
    {
     "name": "stdout",
     "output_type": "stream",
     "text": [
      "{'name': 'Abhi', 'age': '27', 'profession': None}\n"
     ]
    }
   ],
   "source": [
    "profile.setdefault('profession')\n",
    "print(profile)"
   ]
  },
  {
   "cell_type": "code",
   "execution_count": 82,
   "metadata": {},
   "outputs": [
    {
     "name": "stdout",
     "output_type": "stream",
     "text": [
      "{'name': 'Abhi', 'age': '27', 'profession': 'student'}\n"
     ]
    }
   ],
   "source": [
    "profile.setdefault('profession', 'student')\n",
    "print(profile)"
   ]
  }
 ],
 "metadata": {
  "kernelspec": {
   "display_name": "Python 3",
   "language": "python",
   "name": "python3"
  },
  "language_info": {
   "codemirror_mode": {
    "name": "ipython",
    "version": 3
   },
   "file_extension": ".py",
   "mimetype": "text/x-python",
   "name": "python",
   "nbconvert_exporter": "python",
   "pygments_lexer": "ipython3",
   "version": "3.7.6"
  }
 },
 "nbformat": 4,
 "nbformat_minor": 4
}
