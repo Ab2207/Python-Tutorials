{
 "cells": [
  {
   "cell_type": "markdown",
   "metadata": {},
   "source": [
    "# Functions\n",
    "\n",
    "Functions are a re-usable block of code which can be called multiple times without actually writing the same code over. \n",
    "\n",
    "def func_name(arguments):\n",
    "\n",
    "    func body\n",
    "    .....\n",
    "    .....\n",
    "    return statement\n",
    "\n"
   ]
  },
  {
   "cell_type": "markdown",
   "metadata": {},
   "source": [
    "# Print vs Return statements in Functions\n",
    "\n",
    "A Return statement informs Python interpreter that it can terminate the function. Meaning, Return statement is used to exit the function and execute the next block of code out of the function. \n",
    "\n",
    "On the other hand, Print function literally just prints the parameters passed and the function itself returns \"None\" if there is no Return statement. "
   ]
  },
  {
   "cell_type": "code",
   "execution_count": 4,
   "metadata": {},
   "outputs": [
    {
     "name": "stdout",
     "output_type": "stream",
     "text": [
      "5\n",
      "None\n"
     ]
    }
   ],
   "source": [
    "def add(a,b):\n",
    "    print(a+b)\n",
    "\n",
    "result = add(2,3)\n",
    "print(result)   "
   ]
  },
  {
   "cell_type": "code",
   "execution_count": 6,
   "metadata": {},
   "outputs": [
    {
     "name": "stdout",
     "output_type": "stream",
     "text": [
      "5\n"
     ]
    }
   ],
   "source": [
    "def add(a,b):\n",
    "    return a+b\n",
    "\n",
    "result = add(2,3)\n",
    "print(result)"
   ]
  },
  {
   "cell_type": "markdown",
   "metadata": {},
   "source": [
    "# Scope and lifetime of variables\n",
    "\n",
    "A variable declared within the function cannot be accessed outside of the function. This variable is called a local variable. Similarly, a variable declared outside of a function is called Global variable and can be accessed anywhere within the program. \n",
    "\n",
    "However, this global variable cannot be changed inside the function unless the variable is explicitly declared as a Global variable which is internally referred to the variable. "
   ]
  },
  {
   "cell_type": "code",
   "execution_count": 13,
   "metadata": {},
   "outputs": [
    {
     "ename": "UnboundLocalError",
     "evalue": "local variable 'y' referenced before assignment",
     "output_type": "error",
     "traceback": [
      "\u001b[1;31m---------------------------------------------------------------------------\u001b[0m",
      "\u001b[1;31mUnboundLocalError\u001b[0m                         Traceback (most recent call last)",
      "\u001b[1;32m<ipython-input-13-06b7eec9d9b1>\u001b[0m in \u001b[0;36m<module>\u001b[1;34m\u001b[0m\n\u001b[0;32m      5\u001b[0m     \u001b[1;32mreturn\u001b[0m \u001b[0my\u001b[0m\u001b[1;33m\u001b[0m\u001b[1;33m\u001b[0m\u001b[0m\n\u001b[0;32m      6\u001b[0m \u001b[1;33m\u001b[0m\u001b[0m\n\u001b[1;32m----> 7\u001b[1;33m \u001b[0mfunc\u001b[0m\u001b[1;33m(\u001b[0m\u001b[1;33m)\u001b[0m\u001b[1;33m\u001b[0m\u001b[1;33m\u001b[0m\u001b[0m\n\u001b[0m",
      "\u001b[1;32m<ipython-input-13-06b7eec9d9b1>\u001b[0m in \u001b[0;36mfunc\u001b[1;34m()\u001b[0m\n\u001b[0;32m      2\u001b[0m \u001b[1;33m\u001b[0m\u001b[0m\n\u001b[0;32m      3\u001b[0m \u001b[1;32mdef\u001b[0m \u001b[0mfunc\u001b[0m\u001b[1;33m(\u001b[0m\u001b[1;33m)\u001b[0m\u001b[1;33m:\u001b[0m\u001b[1;33m\u001b[0m\u001b[1;33m\u001b[0m\u001b[0m\n\u001b[1;32m----> 4\u001b[1;33m     \u001b[0my\u001b[0m \u001b[1;33m=\u001b[0m \u001b[0my\u001b[0m\u001b[1;33m+\u001b[0m\u001b[1;36m1\u001b[0m\u001b[1;33m\u001b[0m\u001b[1;33m\u001b[0m\u001b[0m\n\u001b[0m\u001b[0;32m      5\u001b[0m     \u001b[1;32mreturn\u001b[0m \u001b[0my\u001b[0m\u001b[1;33m\u001b[0m\u001b[1;33m\u001b[0m\u001b[0m\n\u001b[0;32m      6\u001b[0m \u001b[1;33m\u001b[0m\u001b[0m\n",
      "\u001b[1;31mUnboundLocalError\u001b[0m: local variable 'y' referenced before assignment"
     ]
    }
   ],
   "source": [
    "y = 7\n",
    "\n",
    "def func():\n",
    "    y = y+1\n",
    "    return y\n",
    "\n",
    "func()"
   ]
  },
  {
   "cell_type": "code",
   "execution_count": 15,
   "metadata": {},
   "outputs": [
    {
     "data": {
      "text/plain": [
       "8"
      ]
     },
     "execution_count": 15,
     "metadata": {},
     "output_type": "execute_result"
    }
   ],
   "source": [
    "y = 7\n",
    "\n",
    "def func():\n",
    "    global y\n",
    "    y = y+1\n",
    "    return y\n",
    "\n",
    "func()"
   ]
  },
  {
   "cell_type": "markdown",
   "metadata": {},
   "source": [
    "# Function Arguments - Positional, KeyWords, Args & Kwargs\n",
    "\n",
    "A function in python takes any number of  arguments as optional. These arguments are of 2 types, Positional and KeyWord. \n",
    "\n",
    "--> Positional: When a function with arguments are called, it is mandatory to declare the values for these arguments in the order of their position. \n",
    "\n",
    "--> KeyWord: A KeyWord argument is given a default value while defining the function. It is not mandatory to give values to keyword arguments while calling the function. However, If given, the default value will be overridden. \n",
    "\n",
    "Note - A positional argument cannot follow keyword argument while defining a function. Keyword argument(s) should always be declared in the last position. \n",
    "\n",
    "--> Args: When you're defining a function and do not know how many positional arguments you would need, *args is used (the name args can be anything)\n",
    "\n",
    "--> Kwargs: Similarly, when you do not know beforehand of how many keyword arguments you need, **kwargs is used (kwargs can be named anything)"
   ]
  },
  {
   "cell_type": "code",
   "execution_count": 16,
   "metadata": {},
   "outputs": [
    {
     "data": {
      "text/plain": [
       "6"
      ]
     },
     "execution_count": 16,
     "metadata": {},
     "output_type": "execute_result"
    }
   ],
   "source": [
    "#Positional Arguments\n",
    "#Here a and b are positional arguments. The arguments passed while calling this function should follow this pattern \n",
    "\n",
    "def mult(a,b): \n",
    "    return a*b\n",
    "\n",
    "mult(2,3)"
   ]
  },
  {
   "cell_type": "code",
   "execution_count": 24,
   "metadata": {},
   "outputs": [
    {
     "name": "stdout",
     "output_type": "stream",
     "text": [
      "Hi,  Abhi, Good Morning\n",
      "Hi,  Abhi, Good Afternoon\n"
     ]
    }
   ],
   "source": [
    "#KeyWord arguments\n",
    "\n",
    "def greet(name, msg='Good Morning'):\n",
    "    print(\"Hi, \",\"{}, {}\".format(name, msg))\n",
    "\n",
    "greet(\"Abhi\")\n",
    "greet(\"Abhi\", \"Good Afternoon\")"
   ]
  },
  {
   "cell_type": "code",
   "execution_count": 32,
   "metadata": {},
   "outputs": [
    {
     "data": {
      "text/plain": [
       "6"
      ]
     },
     "execution_count": 32,
     "metadata": {},
     "output_type": "execute_result"
    }
   ],
   "source": [
    "def args(*nums):\n",
    "    sum = 0\n",
    "    for i in nums:\n",
    "        sum = sum + i\n",
    "    return sum\n",
    "\n",
    "args(3,2,1)"
   ]
  },
  {
   "cell_type": "code",
   "execution_count": 33,
   "metadata": {},
   "outputs": [
    {
     "name": "stdout",
     "output_type": "stream",
     "text": [
      "num1 is 3\n",
      "num2 is 2\n",
      "num3 is 1\n"
     ]
    }
   ],
   "source": [
    "def kwargs(**nums):\n",
    "    \n",
    "    for key, value in nums.items():\n",
    "        print(\"{} is {}\".format(key,value))\n",
    "\n",
    "kwargs(num1 = 3, num2 = 2,num3 = 1)"
   ]
  },
  {
   "cell_type": "code",
   "execution_count": 40,
   "metadata": {},
   "outputs": [
    {
     "name": "stdout",
     "output_type": "stream",
     "text": [
      "Abhi is 27 years old\n",
      "Abhi is 28 years old\n",
      "Hebbar is 27 years old\n",
      "Hebbar is 28 years old\n"
     ]
    }
   ],
   "source": [
    "def func(*names, **age):\n",
    "    for i in range(len(names)):\n",
    "        for key,value in age.items():\n",
    "            print(\"{} is {} years old\".format(names[i], value))\n",
    "\n",
    "func(\"Abhi\", \"Hebbar\", age1 = 27, age2 = 28)"
   ]
  },
  {
   "cell_type": "markdown",
   "metadata": {},
   "source": [
    "# Lambda Functions\n",
    "\n",
    "Lambda functions are a shorter version of a function in Python. While a general function is defined by the keyword \"def\", the Lambda function is defined by the keyword \"lambda\". Lambda functions do not have a name, hence are called anonymous functions. These lambda functions can be assigned to a variable and called later with the variable name. \n",
    "\n",
    "Syntax - lambda arguments: expression\n",
    "Example - lambda x,y: x + y --> This returns the sum of x and y.\n",
    "\n",
    "Lambda Conditional Functions Syntax - lambda x: (value if condition is true) if (condition) else (value if condition is false)\n",
    "\n",
    "Few points about Lambda functions:\n",
    "\n",
    "--> Lambda functions can have any number of arguments but only one expression \n",
    "\n",
    "--> Lambda functions are used only when the function body is very small and used for a short period of time\n",
    "\n",
    "--> Map and Filter are usually used along with lambda functions.. Examples shown below"
   ]
  },
  {
   "cell_type": "code",
   "execution_count": 41,
   "metadata": {},
   "outputs": [
    {
     "data": {
      "text/plain": [
       "4"
      ]
     },
     "execution_count": 41,
     "metadata": {},
     "output_type": "execute_result"
    }
   ],
   "source": [
    "#Here x is the argument and x*2 is the expression that gets evaluated and returned \n",
    "\n",
    "double = lambda x: x*2\n",
    "double(2)"
   ]
  },
  {
   "cell_type": "code",
   "execution_count": 57,
   "metadata": {},
   "outputs": [
    {
     "name": "stdout",
     "output_type": "stream",
     "text": [
      "4\n"
     ]
    }
   ],
   "source": [
    "#Lambda function can also be called immediately \n",
    "\n",
    "double = (lambda x: x*2)(2)\n",
    "print(double)"
   ]
  },
  {
   "cell_type": "code",
   "execution_count": 46,
   "metadata": {},
   "outputs": [
    {
     "data": {
      "text/plain": [
       "6"
      ]
     },
     "execution_count": 46,
     "metadata": {},
     "output_type": "execute_result"
    }
   ],
   "source": [
    "check = lambda x: x if x%2==0 else x+1\n",
    "check(5)"
   ]
  },
  {
   "cell_type": "markdown",
   "metadata": {},
   "source": [
    "# Difference between Map and Filter \n",
    "\n",
    "Map literally maps the function to the iterable passed. This returns values for all the elements in the iterable. \n",
    "\n",
    "Filter, filters out the value which corresponds to the given function. The result contains only the values which satisfied the condition in the function. "
   ]
  },
  {
   "cell_type": "code",
   "execution_count": 55,
   "metadata": {},
   "outputs": [
    {
     "name": "stdout",
     "output_type": "stream",
     "text": [
      "[False, True, False, True, False, True, False, True]\n"
     ]
    }
   ],
   "source": [
    "my_list = [1,2,3,4,5,6,7,8]\n",
    "\n",
    "result = list(map(lambda x: x%2==0, my_list))\n",
    "print(result)"
   ]
  },
  {
   "cell_type": "code",
   "execution_count": 54,
   "metadata": {},
   "outputs": [
    {
     "name": "stdout",
     "output_type": "stream",
     "text": [
      "[2, 4, 6, 8]\n"
     ]
    }
   ],
   "source": [
    "my_list = [1,2,3,4,5,6,7,8]\n",
    "\n",
    "result = list(filter(lambda x: x%2==0, my_list))\n",
    "print(result)"
   ]
  },
  {
   "cell_type": "markdown",
   "metadata": {},
   "source": [
    "# Recursion\n",
    "\n",
    "Recursion is when a Python function calls itself within the function. It needs a base statement which will prompt Python to stop calling itself at some point, else it will keep running itself infinitely. "
   ]
  },
  {
   "cell_type": "code",
   "execution_count": 58,
   "metadata": {},
   "outputs": [
    {
     "data": {
      "text/plain": [
       "120"
      ]
     },
     "execution_count": 58,
     "metadata": {},
     "output_type": "execute_result"
    }
   ],
   "source": [
    "def fact(n):\n",
    "    \n",
    "    if n==0:  #This can be considered as the base condition. We are telling fact function to stop calling itself when the\n",
    "              #value of n = 0\n",
    "        return 1\n",
    "    return n*fact(n-1)\n",
    "\n",
    "fact(5)"
   ]
  },
  {
   "cell_type": "code",
   "execution_count": null,
   "metadata": {},
   "outputs": [],
   "source": []
  },
  {
   "cell_type": "code",
   "execution_count": null,
   "metadata": {},
   "outputs": [],
   "source": []
  }
 ],
 "metadata": {
  "kernelspec": {
   "display_name": "Python 3",
   "language": "python",
   "name": "python3"
  },
  "language_info": {
   "codemirror_mode": {
    "name": "ipython",
    "version": 3
   },
   "file_extension": ".py",
   "mimetype": "text/x-python",
   "name": "python",
   "nbconvert_exporter": "python",
   "pygments_lexer": "ipython3",
   "version": "3.7.6"
  }
 },
 "nbformat": 4,
 "nbformat_minor": 4
}
