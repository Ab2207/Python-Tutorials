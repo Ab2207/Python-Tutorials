{
 "cells": [
  {
   "cell_type": "markdown",
   "metadata": {},
   "source": [
    "# Exception Handling\n",
    "\n",
    "This technique helps in handling any exceptions that the program may raise during its execution. The syntax for this is as follows:\n",
    "\n",
    "    try:\n",
    "        try block code\n",
    "        ....\n",
    "        ....\n",
    "    except Exception:\n",
    "        except block code\n",
    "        ...\n",
    "        ...\n",
    "    finally:\n",
    "        finally block code\n",
    "        \n",
    " - The main code goes into the ***try*** block which we assume is going to cause the exception. If an exception is raised, the code within the ***except*** block gets executed. The code in ***finally*** block executes no matter the exception is raised or not. This is usually used when a file is opened in the try block and we need to close it before the execution. \n",
    " \n",
    "\n",
    " - The program execution of try block will terminate at the line which caused the error. The following lines of code in the try block will not be executed.\n",
    " \n",
    " \n",
    " - Instead of ***except Exception*** (this is generic exception), the name of the exception can be mentioned. Like ***except ValueError*** (this is case specific excpetion). The word Exception is a high-level term and can handle any kind of exception. However, exceptions like ValueError only handles particular exception. \n",
    "\n",
    "\n",
    " - There can be as many as ***except*** blocks based on the variety of exceptions you think will be raised. However, there can only be one generic exception block\n",
    "\n",
    "\n",
    " - Multiple specific exceptions can be handled in a single except block. \n",
    "         \n",
    "         syntax - except (valueError, ZeroDivisionError):\n",
    "                             except block code..."
   ]
  },
  {
   "cell_type": "code",
   "execution_count": 1,
   "metadata": {},
   "outputs": [
    {
     "name": "stdout",
     "output_type": "stream",
     "text": [
      "Enter an integer4\n",
      "Enter another integer2\n",
      "2.0\n",
      "I'm done with the execution\n"
     ]
    }
   ],
   "source": [
    "num1 = int(input(\"Enter an integer\"))\n",
    "num2 = int(input(\"Enter another integer\"))\n",
    "\n",
    "try:\n",
    "    print(num1/num2)\n",
    "    \n",
    "except Exception:\n",
    "    print(\"Oops, a number cannot be divided by 0\")\n",
    "    \n",
    "finally:\n",
    "    print(\"I'm done with the execution\")"
   ]
  },
  {
   "cell_type": "code",
   "execution_count": 4,
   "metadata": {},
   "outputs": [
    {
     "name": "stdout",
     "output_type": "stream",
     "text": [
      "Enter an integer4\n",
      "Enter another integer0\n",
      "Oops, a number cannot be divided by 0. Hence, I've divided it by 2  2.0\n",
      "I'm done with the execution\n"
     ]
    }
   ],
   "source": [
    "num1 = int(input(\"Enter an integer\"))\n",
    "num2 = int(input(\"Enter another integer\"))\n",
    "\n",
    "try:\n",
    "    print(num1/num2)\n",
    "    print(\"This line is to check if it will be executed or not if there is an error in above code\")\n",
    "    \n",
    "except Exception:\n",
    "    div = num1/2\n",
    "    print(\"Oops, a number cannot be divided by 0. Hence, I've divided it by 2 \", div)\n",
    "    \n",
    "finally:\n",
    "    print(\"I'm done with the execution\")"
   ]
  },
  {
   "cell_type": "code",
   "execution_count": null,
   "metadata": {},
   "outputs": [],
   "source": []
  }
 ],
 "metadata": {
  "kernelspec": {
   "display_name": "Python 3",
   "language": "python",
   "name": "python3"
  },
  "language_info": {
   "codemirror_mode": {
    "name": "ipython",
    "version": 3
   },
   "file_extension": ".py",
   "mimetype": "text/x-python",
   "name": "python",
   "nbconvert_exporter": "python",
   "pygments_lexer": "ipython3",
   "version": "3.7.6"
  }
 },
 "nbformat": 4,
 "nbformat_minor": 4
}
