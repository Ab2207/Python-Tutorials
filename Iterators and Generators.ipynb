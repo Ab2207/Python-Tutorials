{
 "cells": [
  {
   "cell_type": "markdown",
   "metadata": {},
   "source": [
    "#  Iterables, Iterators, and Generators\n",
    "\n",
    " - **Iterables** - Any data structure which allows iterating through it is called an iterable. Lists, Tuple, String, Dictionary\n",
    " \n",
    " \n",
    " \n",
    " - **Iterators** - Any iterable can be converted into an iterator. A unique trait of an iterator is, it doesn't take up memory immediately when an iterator is created, unlike an Iterable. This helps in saving up a lot of memory when the iterable (List, Tuple etc) have millions of elements in them. \n",
    " \n",
    "\n",
    "     - Iterators are created using ***iter(iterable)*** function. Ex: var = iter(list). \n",
    " \n",
    "     - Iterators do not support indexing and hence it cannot be accessed by [1].\n",
    "      \n",
    "     - An in-built function *next(iterator)* is used to accesses the elements in it. A drawback is that each time only \n",
    "        one elemant can be accessed. When the elements in the iterator comes to an end, Python raises an exception. \n",
    "      \n",
    "     - Alternatively, each element in the iterator can be accessed using ***for loop***. A for loop automatically handles \n",
    "        the exception raised when all the elements in the iterator are covered.  \n",
    "        \n",
    "     - An iterator should always contain the *__iter__()* and *__next__()* functions in it. Which tells that the user              defined function is an iterator and can be iterated using the nect() function. \n",
    "        \n",
    "\n",
    "\n",
    " - **Generators** - Generators helps in creating an iterator within a function using ***yield*** keyword. Think of it like a function used to print squares of 1-10 numbers and returning a result in the form of a list. Only, in Generators, we wouldn't need to initialize an empty list and a return statement as shown in example below. Just the uage of yield will take care of it and convert the function into an iterator.\n",
    "      "
   ]
  },
  {
   "cell_type": "markdown",
   "metadata": {},
   "source": [
    "# Iterators"
   ]
  },
  {
   "cell_type": "code",
   "execution_count": 1,
   "metadata": {},
   "outputs": [
    {
     "data": {
      "text/plain": [
       "1"
      ]
     },
     "execution_count": 1,
     "metadata": {},
     "output_type": "execute_result"
    }
   ],
   "source": [
    "lst = [1,2,3,4,5,6,7,8,9] # A simple list, in this case an iterable \n",
    "\n",
    "convert_lst = iter(lst) # Converting the iterable into an iterator\n",
    "next(convert_lst)"
   ]
  },
  {
   "cell_type": "code",
   "execution_count": 2,
   "metadata": {},
   "outputs": [
    {
     "data": {
      "text/plain": [
       "2"
      ]
     },
     "execution_count": 2,
     "metadata": {},
     "output_type": "execute_result"
    }
   ],
   "source": [
    "next(convert_lst)"
   ]
  },
  {
   "cell_type": "code",
   "execution_count": 3,
   "metadata": {},
   "outputs": [
    {
     "name": "stdout",
     "output_type": "stream",
     "text": [
      "<str_iterator object at 0x0000021E809758C8>\n"
     ]
    }
   ],
   "source": [
    "string = \"Abhi\"\n",
    "\n",
    "convert_string = iter(string)\n",
    "print(convert_string)"
   ]
  },
  {
   "cell_type": "code",
   "execution_count": 4,
   "metadata": {},
   "outputs": [
    {
     "data": {
      "text/plain": [
       "'A'"
      ]
     },
     "execution_count": 4,
     "metadata": {},
     "output_type": "execute_result"
    }
   ],
   "source": [
    "next(convert_string)"
   ]
  },
  {
   "cell_type": "markdown",
   "metadata": {},
   "source": [
    "# Difference between a normal function and a Generator function\n",
    "\n",
    " - The first example uses normal function to print the sqaure of 1st 10 numbers. Observe that the output raises an exception because the type int is not an iterator. Also, check the dir it doesn't have the __iter__() and __next__() functions in it. \n",
    " \n",
    " \n",
    " - The second example also uses the normal function but with additional lines of code by initializing an empty list(which is an iterable by nature) and appending the results of each loop in the list. Then we loop through this list to get the output one by one. Notice the dir of this function, it only has an __iter__() function and not the __next__() function.\n",
    " \n",
    " \n",
    " - The third example uses Generator by implementing the ***yield*** keyword. This allows the user to loop through each element of the result without having to initialize an empty list and then iterate. The dir of this user defined function has both __iter__() and __next__() functions which makes it an iterator by nature. "
   ]
  },
  {
   "cell_type": "code",
   "execution_count": 22,
   "metadata": {},
   "outputs": [
    {
     "name": "stdout",
     "output_type": "stream",
     "text": [
      "11\n",
      "['__abs__', '__add__', '__and__', '__bool__', '__ceil__', '__class__', '__delattr__', '__dir__', '__divmod__', '__doc__', '__eq__', '__float__', '__floor__', '__floordiv__', '__format__', '__ge__', '__getattribute__', '__getnewargs__', '__gt__', '__hash__', '__index__', '__init__', '__init_subclass__', '__int__', '__invert__', '__le__', '__lshift__', '__lt__', '__mod__', '__mul__', '__ne__', '__neg__', '__new__', '__or__', '__pos__', '__pow__', '__radd__', '__rand__', '__rdivmod__', '__reduce__', '__reduce_ex__', '__repr__', '__rfloordiv__', '__rlshift__', '__rmod__', '__rmul__', '__ror__', '__round__', '__rpow__', '__rrshift__', '__rshift__', '__rsub__', '__rtruediv__', '__rxor__', '__setattr__', '__sizeof__', '__str__', '__sub__', '__subclasshook__', '__truediv__', '__trunc__', '__xor__', 'bit_length', 'conjugate', 'denominator', 'from_bytes', 'imag', 'numerator', 'real', 'to_bytes']\n"
     ]
    }
   ],
   "source": [
    "def square_normie():\n",
    "    n = 1\n",
    "    while n<=10:\n",
    "        sq = n*n\n",
    "        n+=1\n",
    "    return n\n",
    "\n",
    "sq_normie = square_normie()\n",
    "print(sq_normie)\n",
    "#for i in sq_normie:\n",
    " #   print(i)\n",
    "    \n",
    "print(dir(sq_normie))"
   ]
  },
  {
   "cell_type": "code",
   "execution_count": 18,
   "metadata": {},
   "outputs": [
    {
     "name": "stdout",
     "output_type": "stream",
     "text": [
      "1\n",
      "4\n",
      "9\n",
      "16\n",
      "25\n",
      "36\n",
      "49\n",
      "64\n",
      "81\n",
      "100\n",
      "['__add__', '__class__', '__contains__', '__delattr__', '__delitem__', '__dir__', '__doc__', '__eq__', '__format__', '__ge__', '__getattribute__', '__getitem__', '__gt__', '__hash__', '__iadd__', '__imul__', '__init__', '__init_subclass__', '__iter__', '__le__', '__len__', '__lt__', '__mul__', '__ne__', '__new__', '__reduce__', '__reduce_ex__', '__repr__', '__reversed__', '__rmul__', '__setattr__', '__setitem__', '__sizeof__', '__str__', '__subclasshook__', 'append', 'clear', 'copy', 'count', 'extend', 'index', 'insert', 'pop', 'remove', 'reverse', 'sort']\n"
     ]
    }
   ],
   "source": [
    "def square_normie_2():\n",
    "    n = 1\n",
    "    res = []\n",
    "    while n<=10:\n",
    "        sq = n*n\n",
    "        res.append(sq)\n",
    "        n+=1\n",
    "    return res\n",
    "\n",
    "sq_normie_2 = square_normie_2()\n",
    "for i in sq_normie_2:\n",
    "    print(i)\n",
    "\n",
    "print(dir(sq_normie_2))\n",
    "        "
   ]
  },
  {
   "cell_type": "code",
   "execution_count": 45,
   "metadata": {},
   "outputs": [
    {
     "name": "stdout",
     "output_type": "stream",
     "text": [
      "1\n",
      "4\n",
      "9\n",
      "16\n",
      "25\n",
      "36\n",
      "49\n",
      "64\n",
      "81\n",
      "100\n",
      "['__class__', '__del__', '__delattr__', '__dir__', '__doc__', '__eq__', '__format__', '__ge__', '__getattribute__', '__gt__', '__hash__', '__init__', '__init_subclass__', '__iter__', '__le__', '__lt__', '__name__', '__ne__', '__new__', '__next__', '__qualname__', '__reduce__', '__reduce_ex__', '__repr__', '__setattr__', '__sizeof__', '__str__', '__subclasshook__', 'close', 'gi_code', 'gi_frame', 'gi_running', 'gi_yieldfrom', 'send', 'throw']\n"
     ]
    }
   ],
   "source": [
    "def square_gen():\n",
    "    n = 1\n",
    "    while n<=10:\n",
    "        sq = n*n\n",
    "        yield sq\n",
    "        n+=1\n",
    "        \n",
    "sq_gen = square_gen()\n",
    "\n",
    "print(sq_gen.__next__()) # This line outputs the first element from the iterator which is 1\n",
    "print(sq_gen.__next__()) # This line outputs the second element from the iterator which is 4\n",
    "\n",
    "for i in sq_gen: # To make it easier, a for loop can be implemented to print all the elements. \n",
    "    print(i)     # But 1 & 4 are skipped as they are already called in the previous print statement. Just like iterators\n",
    "    \n",
    "\n",
    "print(dir(sq_gen))"
   ]
  },
  {
   "cell_type": "code",
   "execution_count": null,
   "metadata": {},
   "outputs": [],
   "source": []
  },
  {
   "cell_type": "code",
   "execution_count": null,
   "metadata": {},
   "outputs": [],
   "source": []
  },
  {
   "cell_type": "code",
   "execution_count": null,
   "metadata": {},
   "outputs": [],
   "source": []
  }
 ],
 "metadata": {
  "kernelspec": {
   "display_name": "Python 3",
   "language": "python",
   "name": "python3"
  },
  "language_info": {
   "codemirror_mode": {
    "name": "ipython",
    "version": 3
   },
   "file_extension": ".py",
   "mimetype": "text/x-python",
   "name": "python",
   "nbconvert_exporter": "python",
   "pygments_lexer": "ipython3",
   "version": "3.7.6"
  }
 },
 "nbformat": 4,
 "nbformat_minor": 4
}
