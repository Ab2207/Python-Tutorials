{
 "cells": [
  {
   "cell_type": "markdown",
   "metadata": {},
   "source": [
    "# Sets "
   ]
  },
  {
   "cell_type": "markdown",
   "metadata": {},
   "source": [
    "Sets (given by { }, not be be confused with dictionaries) is a data type in Python just like list. Few points abour sets:\n",
    "\n",
    "1. It doesn't allow duplicate values and returns the value in an ordered format. \n",
    "2. Since the values are sequenced, it doesn't support indexing. \n",
    "3. A set may contain different types of values such as int, float, string etc. But cannot have a nested list or set. \n",
    "4. Set is mutable - its' values can be changed once assigned \n",
    "5. You can create an empty set by using - a = set()\n",
    "6. The elements of sets cannot be accessed as it doesn't support indexing. However, we can check if a given element is present in the set or not. \n",
    "7. Just like Lists, Sets can be looped through using For loop.\n"
   ]
  },
  {
   "cell_type": "markdown",
   "metadata": {},
   "source": [
    "# Sets Built-in Methods"
   ]
  },
  {
   "cell_type": "code",
   "execution_count": 1,
   "metadata": {},
   "outputs": [],
   "source": [
    "#Simple numbered sets\n",
    "\n",
    "a = {1,2,3,4,5,8}\n",
    "b = {3,4,5,6,7}\n",
    "c = {1,2,3,5,8}\n",
    "d = {9,10,8}"
   ]
  },
  {
   "cell_type": "code",
   "execution_count": 42,
   "metadata": {},
   "outputs": [
    {
     "name": "stdout",
     "output_type": "stream",
     "text": [
      "{'o', 'P', 'y', 'h', 'n', '!', 't'}\n"
     ]
    }
   ],
   "source": [
    "#A set can be created in this way also! \n",
    "\n",
    "string_set = set(\"Pythonnnn!!\")\n",
    "print(string_set)"
   ]
  },
  {
   "cell_type": "markdown",
   "metadata": {},
   "source": [
    "Add() - Adds a new element to the set. It takes one parameter, which is the value to be added. Set accepts Tuples as an input element. \n",
    "\n",
    "\n",
    "    Syntax - a.add(7) - Adds single element 7 to the set. \n",
    "             a.add(8,9) - Adds the tuple with 8 and 9 to the set. "
   ]
  },
  {
   "cell_type": "code",
   "execution_count": 2,
   "metadata": {},
   "outputs": [
    {
     "name": "stdout",
     "output_type": "stream",
     "text": [
      "{1, 2, 3, 4, 5, 8, (10, 9)}\n"
     ]
    }
   ],
   "source": [
    "a.add(8)\n",
    "a.add((10,9))\n",
    "print(a)"
   ]
  },
  {
   "cell_type": "markdown",
   "metadata": {},
   "source": [
    "Remove() - This method helps in removing an item from the set. It takes one parameter, the value to be removed. If the passed value is not present in the set, it raises a KeyError exception. \n",
    "    \n",
    "    Syntax - a.remove(5) will remove value 5. \n",
    "    \n",
    "Discard() - Works similar to the remove() method. Only difference is, discard() does not raise a KeyError excpetion when a value which is not present is given to the discard() method. \n",
    "    \n",
    "    Syntax - a.discard(6) will remove 6. However, a.discard(8) will not raise an exception and simply ignores it. \n",
    "\n",
    "Pop() - This pops a random value from the list and returns it as the output. It doesn't take any arguments. \n",
    "    \n",
    "    Syntax - a.pop() - will return a random value from the set to the output screen. "
   ]
  },
  {
   "cell_type": "code",
   "execution_count": 3,
   "metadata": {},
   "outputs": [
    {
     "name": "stdout",
     "output_type": "stream",
     "text": [
      "{1, 2, 3, 4, 8, (10, 9)}\n"
     ]
    }
   ],
   "source": [
    "a.remove(5)\n",
    "print(a)"
   ]
  },
  {
   "cell_type": "code",
   "execution_count": 4,
   "metadata": {},
   "outputs": [
    {
     "ename": "KeyError",
     "evalue": "11",
     "output_type": "error",
     "traceback": [
      "\u001b[1;31m---------------------------------------------------------------------------\u001b[0m",
      "\u001b[1;31mKeyError\u001b[0m                                  Traceback (most recent call last)",
      "\u001b[1;32m<ipython-input-4-23ba346d1982>\u001b[0m in \u001b[0;36m<module>\u001b[1;34m\u001b[0m\n\u001b[1;32m----> 1\u001b[1;33m \u001b[0ma\u001b[0m\u001b[1;33m.\u001b[0m\u001b[0mremove\u001b[0m\u001b[1;33m(\u001b[0m\u001b[1;36m11\u001b[0m\u001b[1;33m)\u001b[0m\u001b[1;33m\u001b[0m\u001b[1;33m\u001b[0m\u001b[0m\n\u001b[0m\u001b[0;32m      2\u001b[0m \u001b[0mprint\u001b[0m\u001b[1;33m(\u001b[0m\u001b[0ma\u001b[0m\u001b[1;33m)\u001b[0m\u001b[1;33m\u001b[0m\u001b[1;33m\u001b[0m\u001b[0m\n",
      "\u001b[1;31mKeyError\u001b[0m: 11"
     ]
    }
   ],
   "source": [
    "a.remove(11)\n",
    "print(a)"
   ]
  },
  {
   "cell_type": "code",
   "execution_count": 5,
   "metadata": {},
   "outputs": [
    {
     "name": "stdout",
     "output_type": "stream",
     "text": [
      "{1, 2, 3, 4, 8, (10, 9)}\n"
     ]
    }
   ],
   "source": [
    "a.discard(11)\n",
    "print(a)"
   ]
  },
  {
   "cell_type": "code",
   "execution_count": 6,
   "metadata": {},
   "outputs": [
    {
     "data": {
      "text/plain": [
       "1"
      ]
     },
     "execution_count": 6,
     "metadata": {},
     "output_type": "execute_result"
    }
   ],
   "source": [
    "a.pop()"
   ]
  },
  {
   "cell_type": "markdown",
   "metadata": {},
   "source": [
    "Copy() - Similar to the copy method in Lists, this creates a copy of the set and keeps the original set unchanged if any changes are made to the new set. \n",
    "    \n",
    "    Syntax - new_a = a.copy()"
   ]
  },
  {
   "cell_type": "code",
   "execution_count": 7,
   "metadata": {},
   "outputs": [
    {
     "name": "stdout",
     "output_type": "stream",
     "text": [
      "{2, 3, 4, 8, (10, 9)}\n"
     ]
    }
   ],
   "source": [
    "a_copy = a.copy()\n",
    "print(a_copy)"
   ]
  },
  {
   "cell_type": "code",
   "execution_count": 8,
   "metadata": {},
   "outputs": [
    {
     "name": "stdout",
     "output_type": "stream",
     "text": [
      "{2, 3, 4, 8, (10, 9)}\n",
      "{1, 2, 3, 4, 8, (10, 9)}\n"
     ]
    }
   ],
   "source": [
    "a_copy.add(1)\n",
    "print(a)\n",
    "print(a_copy)"
   ]
  },
  {
   "cell_type": "markdown",
   "metadata": {},
   "source": [
    "Difference() - The set difference of a and b is a set of elements which exists only in a and not in b. \n",
    "    \n",
    "    Syntax - a.difference(b) or b.difference(a)\n",
    "    Example - a = {1,2,3,4,5} b = {3,4,5,6,7} --> a.difference(b) or simply (a-b) will return {1,2}\n",
    "                                              --> b.difference(a) or simply (b-a) will return {6,7}\n",
    "                                              \n",
    "                                              \n",
    "Difference_update() - After determining the difference, this method updates the first set with the difference. \n",
    "    \n",
    "    Syntax - a.difference_update(b) --> will update a as {1,2} instead of original {1,2,3,4,5}"
   ]
  },
  {
   "cell_type": "code",
   "execution_count": 9,
   "metadata": {},
   "outputs": [
    {
     "name": "stdout",
     "output_type": "stream",
     "text": [
      "{8, 2, (10, 9)}\n",
      "{8, 2, (10, 9)}\n"
     ]
    }
   ],
   "source": [
    "print(a.difference(b))\n",
    "print(a-b)"
   ]
  },
  {
   "cell_type": "code",
   "execution_count": 10,
   "metadata": {},
   "outputs": [
    {
     "name": "stdout",
     "output_type": "stream",
     "text": [
      "{2, 8, (10, 9)}\n"
     ]
    }
   ],
   "source": [
    "a.difference_update(b)\n",
    "print(a)"
   ]
  },
  {
   "cell_type": "markdown",
   "metadata": {},
   "source": [
    "Intersection() - Updates the calling set with all the common elements from other sets. It can also compare one set with multiple sets at the same time. \n",
    "    \n",
    "    Syntax - a.intersection(b) --> returns {3,4,5}\n",
    "             a.intersection(b,c,d) --> will return a set with all the common elements. \n",
    "             \n",
    "Intersection_update() - Intersection counter part of the difference_update(). Same concept "
   ]
  },
  {
   "cell_type": "code",
   "execution_count": 13,
   "metadata": {},
   "outputs": [
    {
     "name": "stdout",
     "output_type": "stream",
     "text": [
      "{3, 5}\n"
     ]
    }
   ],
   "source": [
    "print(c.intersection(b))"
   ]
  },
  {
   "cell_type": "code",
   "execution_count": 14,
   "metadata": {},
   "outputs": [
    {
     "name": "stdout",
     "output_type": "stream",
     "text": [
      "{3, 5}\n"
     ]
    }
   ],
   "source": [
    "#Originally c = {1,3,5,8}. With intersection update, C has been updated with the intersection results of A,B and C\n",
    "\n",
    "c.intersection_update(b)\n",
    "print(c)"
   ]
  },
  {
   "cell_type": "markdown",
   "metadata": {},
   "source": [
    "Symmetric_difference() - The symmetric difference of two sets a and b is the set of elements which are either present in a or b but not their intersection(common elements). \n",
    "    \n",
    "    Syntax - a.symmetric_difference(b) OR (a^b) --> returns {1,2,6,7}\n",
    "    \n",
    "Symmetric_difference_update() - Same as other update methods in sets. "
   ]
  },
  {
   "cell_type": "code",
   "execution_count": 15,
   "metadata": {},
   "outputs": [
    {
     "name": "stdout",
     "output_type": "stream",
     "text": [
      "{2, 3, 4, 5, 6, 7, 8, (10, 9)}\n",
      "{2, 3, 4, 5, 6, 7, 8, (10, 9)}\n"
     ]
    }
   ],
   "source": [
    "print(a.symmetric_difference(b))\n",
    "print(a^b)"
   ]
  },
  {
   "cell_type": "code",
   "execution_count": 16,
   "metadata": {},
   "outputs": [
    {
     "name": "stdout",
     "output_type": "stream",
     "text": [
      "{2, 4, 3, 5, 6, 8, 7, (10, 9)}\n"
     ]
    }
   ],
   "source": [
    "a.symmetric_difference_update(b)\n",
    "print(a)"
   ]
  },
  {
   "cell_type": "markdown",
   "metadata": {},
   "source": [
    "Union() - The union of two or more sets is the set of all distinct elements present in the sets. It returns the union set. One or multiple sets can be passed as the parameters to compare. \n",
    "\n",
    "    Syntax - a.union(b)OR a | b --> returns {1,2,3,4,5,6,7}"
   ]
  },
  {
   "cell_type": "code",
   "execution_count": 17,
   "metadata": {},
   "outputs": [
    {
     "name": "stdout",
     "output_type": "stream",
     "text": [
      "{2, 3, 4, 5, 6, 7, 8, (10, 9)}\n",
      "{2, 3, 4, 5, 6, 7, 8, (10, 9)}\n"
     ]
    }
   ],
   "source": [
    "print(a.union(b,c))\n",
    "print(a|b|c)"
   ]
  },
  {
   "cell_type": "markdown",
   "metadata": {},
   "source": [
    "Update() - Helps in updating the set by adding elements from other iterable data types (string, list, dictionary etc). \n",
    "    \n",
    "    Syntax - list = ['a', 'b', 'c'] --> a.update(list) --> returns {1, 'a', 'b', 2, 3, 4, 'c', 5, 6} \n",
    "    Note - When a dictionary is passed as iterable, only the key is added and not the value. "
   ]
  },
  {
   "cell_type": "code",
   "execution_count": 18,
   "metadata": {},
   "outputs": [
    {
     "name": "stdout",
     "output_type": "stream",
     "text": [
      "{2, 4, 3, 5, 6, 8, 7, 'a', 'c', 'b', (10, 9)}\n"
     ]
    }
   ],
   "source": [
    "lst = ['a', 'b', 'c']\n",
    "a.update(lst)\n",
    "print(a)"
   ]
  },
  {
   "cell_type": "markdown",
   "metadata": {},
   "source": [
    "isdisjoint() - Two sets are known as disjoints if they have nothing in common. This method returns True if a given set is disjoint. A set can be compared with other iterables to check if they are disjoint or not. In the backend, python converts these iterables to a set and then compares them. \n",
    "    \n",
    "    Syntax - a.isdisjoint(b) OR a.isdisjoint(list)"
   ]
  },
  {
   "cell_type": "code",
   "execution_count": 19,
   "metadata": {},
   "outputs": [
    {
     "name": "stdout",
     "output_type": "stream",
     "text": [
      "False\n",
      "False\n",
      "False\n"
     ]
    }
   ],
   "source": [
    "print(a.isdisjoint(lst))\n",
    "print(a.isdisjoint(c))\n",
    "print(a.isdisjoint(d))"
   ]
  },
  {
   "cell_type": "markdown",
   "metadata": {},
   "source": [
    "issubset() - Return true if the given set has all the elements of the set passed as argument. \n",
    "    \n",
    "    Syntax - a.issubset(b) --> returns False, since b has element 7 which is not present in a."
   ]
  },
  {
   "cell_type": "code",
   "execution_count": 20,
   "metadata": {},
   "outputs": [
    {
     "name": "stdout",
     "output_type": "stream",
     "text": [
      "True\n"
     ]
    }
   ],
   "source": [
    "print(c.issubset(a))"
   ]
  },
  {
   "cell_type": "markdown",
   "metadata": {},
   "source": [
    "Clear() - Clears the entire set and return an empty set when called. Doesn't take any parameters. \n",
    "    \n",
    "    Syntax - a.clear()"
   ]
  },
  {
   "cell_type": "code",
   "execution_count": 22,
   "metadata": {},
   "outputs": [
    {
     "name": "stdout",
     "output_type": "stream",
     "text": [
      "set()\n"
     ]
    }
   ],
   "source": [
    "d.clear()\n",
    "print(d)"
   ]
  },
  {
   "cell_type": "code",
   "execution_count": 23,
   "metadata": {},
   "outputs": [
    {
     "name": "stdout",
     "output_type": "stream",
     "text": [
      "{1, 2, 3, 4, 7, 8, 9}\n"
     ]
    }
   ],
   "source": [
    "n = {3,1,4,7,2,7,9,8}\n",
    "print(n)"
   ]
  },
  {
   "cell_type": "markdown",
   "metadata": {},
   "source": [
    "# Sets Use-Cases"
   ]
  },
  {
   "cell_type": "code",
   "execution_count": 24,
   "metadata": {},
   "outputs": [
    {
     "name": "stdout",
     "output_type": "stream",
     "text": [
      "True\n"
     ]
    }
   ],
   "source": [
    "#Checking the presence of elements in the set. \n",
    "\n",
    "print(2 in a)"
   ]
  },
  {
   "cell_type": "code",
   "execution_count": 39,
   "metadata": {},
   "outputs": [
    {
     "name": "stdout",
     "output_type": "stream",
     "text": [
      "True\n",
      "0:00:00.874921\n"
     ]
    }
   ],
   "source": [
    "import time \n",
    "from datetime import timedelta\n",
    "start_time = time.time()\n",
    "\n",
    "numbers_list = [i for i in range(1, 10000000)]\n",
    "\n",
    "#If I want to check if the above list consists of value 300, I usually write a for loop like below\n",
    "\n",
    "for i in numbers_list:\n",
    "    if i == 100:\n",
    "        print(True)\n",
    "\n",
    "elapsed_time = time.time()\n",
    "print(timedelta(seconds = elapsed_time - start_time))"
   ]
  },
  {
   "cell_type": "code",
   "execution_count": 40,
   "metadata": {},
   "outputs": [
    {
     "name": "stdout",
     "output_type": "stream",
     "text": [
      "True\n",
      "0:00:00.223893\n"
     ]
    }
   ],
   "source": [
    "#The above method may not be efficient when there are 1000s of values in the list. In this case, the list can be \n",
    "#converted into a set and can check for the number. As shown below\n",
    "\n",
    "import time \n",
    "from datetime import timedelta\n",
    "start_time = time.time()\n",
    "\n",
    "numbers_set = set(numbers_list)\n",
    "print(300 in numbers_set)\n",
    "\n",
    "end_time = time.time()\n",
    "print(timedelta(seconds = end_time - start_time))"
   ]
  },
  {
   "cell_type": "code",
   "execution_count": 41,
   "metadata": {},
   "outputs": [
    {
     "name": "stdout",
     "output_type": "stream",
     "text": [
      "[1, 2, 3, 4, 5, 6, 7]\n"
     ]
    }
   ],
   "source": [
    "#Another use case is - if I want all the unique elements from the list \n",
    "\n",
    "numbers_list = [2,3,4,5,5,5,6,7,1,3]\n",
    "numbers_set = set(numbers_list)\n",
    "list_updated = list(numbers_set)\n",
    "print(list_updated)"
   ]
  },
  {
   "cell_type": "code",
   "execution_count": null,
   "metadata": {},
   "outputs": [],
   "source": []
  }
 ],
 "metadata": {
  "kernelspec": {
   "display_name": "Python 3",
   "language": "python",
   "name": "python3"
  },
  "language_info": {
   "codemirror_mode": {
    "name": "ipython",
    "version": 3
   },
   "file_extension": ".py",
   "mimetype": "text/x-python",
   "name": "python",
   "nbconvert_exporter": "python",
   "pygments_lexer": "ipython3",
   "version": "3.7.6"
  }
 },
 "nbformat": 4,
 "nbformat_minor": 4
}
